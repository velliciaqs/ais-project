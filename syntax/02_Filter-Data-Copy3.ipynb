{
 "cells": [
  {
   "cell_type": "markdown",
   "id": "ffb1e8b9",
   "metadata": {},
   "source": [
    "# Data AIS"
   ]
  },
  {
   "cell_type": "code",
   "execution_count": 1,
   "id": "025a9bba",
   "metadata": {},
   "outputs": [
    {
     "data": {
      "text/plain": [
       "True"
      ]
     },
     "execution_count": 1,
     "metadata": {},
     "output_type": "execute_result"
    }
   ],
   "source": [
    "#For 3.3.1\n",
    "#Register Sedona Functions to Spark\n",
    "from sedona.register import SedonaRegistrator\n",
    "SedonaRegistrator.registerAll(spark)"
   ]
  },
  {
   "cell_type": "code",
   "execution_count": 2,
   "id": "9499c4f9",
   "metadata": {},
   "outputs": [],
   "source": [
    "#For 3.3.2\n",
    "from shapely.geometry import Point, Polygon, mapping\n",
    "import h3.api.numpy_int as h3int"
   ]
  },
  {
   "cell_type": "code",
   "execution_count": 3,
   "id": "85fbb394",
   "metadata": {},
   "outputs": [],
   "source": [
    "import pandas as pd\n",
    "from pyspark.sql import functions as F\n",
    "from pyspark.sql.functions import col, when"
   ]
  },
  {
   "cell_type": "code",
   "execution_count": 4,
   "id": "94971107",
   "metadata": {},
   "outputs": [],
   "source": [
    "# Path\n",
    "base_path = \"s3a://ungp-ais-data-historical-backup/user_temp/\"\n",
    "path_unique = base_path + \"212112409/\""
   ]
  },
  {
   "cell_type": "code",
   "execution_count": 5,
   "id": "0e975986",
   "metadata": {},
   "outputs": [],
   "source": [
    "# Read Data\n",
    "data_ais = spark.read.parquet(path_unique + \"ais-ihs-indonesia-2024.parquet\")"
   ]
  },
  {
   "cell_type": "code",
   "execution_count": 7,
   "id": "ef9e3b6c-fc74-4710-87f5-e0e4a9149283",
   "metadata": {},
   "outputs": [
    {
     "name": "stdout",
     "output_type": "stream",
     "text": [
      "+-----------------------------+\n",
      "|nav_status                   |\n",
      "+-----------------------------+\n",
      "|Moored                       |\n",
      "|Restricted Manoeuvrability   |\n",
      "|Not Defined                  |\n",
      "|Not Under Command            |\n",
      "|Underway Sailing             |\n",
      "|Unknown                      |\n",
      "|At Anchor                    |\n",
      "|Constrained By Her Draught   |\n",
      "|Under Way Using Engine       |\n",
      "|Engaged In Fishing           |\n",
      "|Reserved For Future Amendment|\n",
      "|Aground                      |\n",
      "|Reserved For Future Use      |\n",
      "|AIS-SART                     |\n",
      "+-----------------------------+\n",
      "\n"
     ]
    }
   ],
   "source": [
    "data_ais.select(\"nav_status\").distinct().show(truncate=False)"
   ]
  },
  {
   "cell_type": "code",
   "execution_count": 6,
   "id": "336dbeca",
   "metadata": {},
   "outputs": [
    {
     "data": {
      "text/plain": [
       "612394139"
      ]
     },
     "execution_count": 6,
     "metadata": {},
     "output_type": "execute_result"
    }
   ],
   "source": [
    "data_ais.count()"
   ]
  },
  {
   "cell_type": "markdown",
   "id": "220f0104",
   "metadata": {},
   "source": [
    "# Filter Data"
   ]
  },
  {
   "cell_type": "code",
   "execution_count": 7,
   "id": "dd29536a",
   "metadata": {},
   "outputs": [],
   "source": [
    "# Filter MMSI\n",
    "filtered_mmsi = data_ais.filter(col(\"mmsi\").between(100000000, 999999999))"
   ]
  },
  {
   "cell_type": "code",
   "execution_count": 8,
   "id": "ef6972b0",
   "metadata": {},
   "outputs": [
    {
     "data": {
      "text/plain": [
       "612367690"
      ]
     },
     "execution_count": 8,
     "metadata": {},
     "output_type": "execute_result"
    }
   ],
   "source": [
    "filtered_mmsi.count()"
   ]
  },
  {
   "cell_type": "code",
   "execution_count": 9,
   "id": "2871c469",
   "metadata": {},
   "outputs": [],
   "source": [
    "# Filter IMO\n",
    "filtered_imo = filtered_mmsi.filter(col(\"imo\").between(1000000, 9999999))"
   ]
  },
  {
   "cell_type": "code",
   "execution_count": 10,
   "id": "15883581",
   "metadata": {},
   "outputs": [
    {
     "data": {
      "text/plain": [
       "612367690"
      ]
     },
     "execution_count": 10,
     "metadata": {},
     "output_type": "execute_result"
    }
   ],
   "source": [
    "filtered_imo.count()"
   ]
  },
  {
   "cell_type": "code",
   "execution_count": 11,
   "id": "7bc1e589",
   "metadata": {},
   "outputs": [],
   "source": [
    "# Filter Status Navigasi\n",
    "filtered_nav_status_code = filtered_imo.filter(col(\"nav_status_code\").between(0, 14))\n",
    "\n",
    "# Nilai yang akan di-filter\n",
    "nav_status_values = ['Under Way Using Engine', 'At Anchor', 'Restricted Manoeuvrability', 'Moored', 'Engaged In Fishing', 'Underway Sailing']\n",
    "\n",
    "# Filter data berdasarkan nilai 'nav_status'\n",
    "filtered_nav_status = filtered_nav_status_code.filter(col(\"nav_status\").isin(nav_status_values))"
   ]
  },
  {
   "cell_type": "code",
   "execution_count": 12,
   "id": "32fcf1e3",
   "metadata": {},
   "outputs": [
    {
     "data": {
      "text/plain": [
       "541565087"
      ]
     },
     "execution_count": 12,
     "metadata": {},
     "output_type": "execute_result"
    }
   ],
   "source": [
    "filtered_nav_status.count()"
   ]
  },
  {
   "cell_type": "code",
   "execution_count": 13,
   "id": "09e61f5e",
   "metadata": {},
   "outputs": [],
   "source": [
    "# Filter Pergerakan Anomali\n",
    "\n",
    "# Tentukan kriteria pergerakan tidak normal\n",
    "kriteria_pergerakan_tidak_normal = (\n",
    "    ((col(\"nav_status\").isin(['At Anchor', 'Moored'])) &\n",
    "    (col(\"sog\") > 1)) | \n",
    "    ((col(\"nav_status\").isin(['Not Under Command', 'Underway Sailing', 'Under Way Using Engine', 'Engaged In Fishing', 'Restricted Manoeuvrability', 'Aground'])) &\n",
    "    (col(\"sog\") < 1))\n",
    ")\n",
    "\n",
    "# kriteria pergerakan normal\n",
    "kriteria_pergerakan_normal = ~kriteria_pergerakan_tidak_normal\n",
    "\n",
    "# Filter pergerakan normal\n",
    "filtered_pergerakan_normal = filtered_nav_status.filter(kriteria_pergerakan_normal)"
   ]
  },
  {
   "cell_type": "code",
   "execution_count": 14,
   "id": "1e279975",
   "metadata": {},
   "outputs": [
    {
     "data": {
      "text/plain": [
       "410475975"
      ]
     },
     "execution_count": 14,
     "metadata": {},
     "output_type": "execute_result"
    }
   ],
   "source": [
    "filtered_pergerakan_normal.count()"
   ]
  },
  {
   "cell_type": "markdown",
   "id": "47a5d833",
   "metadata": {},
   "source": [
    "## Save Data"
   ]
  },
  {
   "cell_type": "code",
   "execution_count": 15,
   "id": "92253748",
   "metadata": {},
   "outputs": [],
   "source": [
    "data_ais_filtered = filtered_pergerakan_normal"
   ]
  },
  {
   "cell_type": "code",
   "execution_count": 16,
   "id": "e9505728",
   "metadata": {},
   "outputs": [],
   "source": [
    "# Save Data\n",
    "data_ais_filtered.write.option(\"header\", True).mode(\"overwrite\").parquet(path_unique + \"data-ais-clean-2024.parquet\")"
   ]
  },
  {
   "cell_type": "code",
   "execution_count": 14,
   "id": "fab3e42f",
   "metadata": {},
   "outputs": [],
   "source": [
    "spark.stop()"
   ]
  },
  {
   "cell_type": "code",
   "execution_count": null,
   "id": "b12000b4",
   "metadata": {},
   "outputs": [],
   "source": []
  }
 ],
 "metadata": {
  "kernelspec": {
   "display_name": "pyspark3.3 ais2.8 (prev ais-tt-dev)",
   "language": "python3",
   "name": "ais-tt-dev"
  },
  "language_info": {
   "codemirror_mode": {
    "name": "ipython",
    "version": 3
   },
   "file_extension": ".py",
   "mimetype": "text/x-python",
   "name": "python",
   "nbconvert_exporter": "python",
   "pygments_lexer": "ipython3",
   "version": "3.8.13"
  }
 },
 "nbformat": 4,
 "nbformat_minor": 5
}
